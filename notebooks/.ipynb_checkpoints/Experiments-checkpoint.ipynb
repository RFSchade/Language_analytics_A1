{
 "cells": [
  {
   "cell_type": "markdown",
   "id": "4e5488d5-6530-43ea-863e-b75f3cce451b",
   "metadata": {},
   "source": [
    "# Experimental "
   ]
  },
  {
   "cell_type": "code",
   "execution_count": null,
   "id": "b2735609-33fb-4d67-85e1-b1a2a3889d24",
   "metadata": {},
   "outputs": [],
   "source": [
    "import os\n",
    "import re\n",
    "import spacy\n",
    "import pandas as pd\n",
    "import math\n",
    "# Loading language model into pipeline\n",
    "nlp = spacy.load(\"en_core_web_sm\")"
   ]
  }
 ],
 "metadata": {
  "kernelspec": {
   "display_name": "Python 3 ",
   "language": "python",
   "name": "python3"
  },
  "language_info": {
   "codemirror_mode": {
    "name": "ipython",
    "version": 3
   },
   "file_extension": ".py",
   "mimetype": "text/x-python",
   "name": "python",
   "nbconvert_exporter": "python",
   "pygments_lexer": "ipython3",
   "version": "3.9.6"
  }
 },
 "nbformat": 4,
 "nbformat_minor": 5
}
