{
 "cells": [
  {
   "cell_type": "markdown",
   "id": "6ef1363a-72f6-4df4-9c87-6af1efd3e0f1",
   "metadata": {},
   "source": [
    "# Streamline code"
   ]
  },
  {
   "cell_type": "markdown",
   "id": "3ba9ab90-f96f-4d09-b985-21c9050ac1db",
   "metadata": {},
   "source": [
    "Import modules"
   ]
  },
  {
   "cell_type": "code",
   "execution_count": 45,
   "id": "53e98b4c-7625-49f7-9d7d-275567713b19",
   "metadata": {
    "execution": {
     "iopub.execute_input": "2022-05-24T13:45:51.534907Z",
     "iopub.status.busy": "2022-05-24T13:45:51.534136Z",
     "iopub.status.idle": "2022-05-24T13:45:51.976494Z",
     "shell.execute_reply": "2022-05-24T13:45:51.975190Z",
     "shell.execute_reply.started": "2022-05-24T13:45:51.534851Z"
    },
    "tags": []
   },
   "outputs": [],
   "source": [
    "import os\n",
    "import re\n",
    "import spacy\n",
    "import math\n",
    "# Import pandas\n",
    "import pandas as pd\n",
    "# Loading language model into pipeline\n",
    "nlp = spacy.load(\"en_core_web_sm\")"
   ]
  },
  {
   "cell_type": "markdown",
   "id": "b7311536-00dd-474d-9492-dc7a98068686",
   "metadata": {},
   "source": [
    "## Load the text"
   ]
  },
  {
   "cell_type": "code",
   "execution_count": 3,
   "id": "bac42320-bd1d-453d-9efd-66715d1d90cc",
   "metadata": {
    "execution": {
     "iopub.execute_input": "2022-05-24T13:12:32.557084Z",
     "iopub.status.busy": "2022-05-24T13:12:32.556515Z",
     "iopub.status.idle": "2022-05-24T13:12:32.910847Z",
     "shell.execute_reply": "2022-05-24T13:12:32.909201Z",
     "shell.execute_reply.started": "2022-05-24T13:12:32.557025Z"
    },
    "tags": []
   },
   "outputs": [],
   "source": [
    "# Loading a text from data folder - get a new text - this one is too long\n",
    "filepath = os.path.join(\"in\", \"Doyle_Hound_1902.txt\")\n",
    "with open(filepath, \"r\") as f:\n",
    "    txt = f.read()"
   ]
  },
  {
   "cell_type": "code",
   "execution_count": 5,
   "id": "f283263b-b165-46e9-bc0e-7b044d2b7a10",
   "metadata": {
    "execution": {
     "iopub.execute_input": "2022-05-24T13:13:49.484467Z",
     "iopub.status.busy": "2022-05-24T13:13:49.483945Z",
     "iopub.status.idle": "2022-05-24T13:13:49.493790Z",
     "shell.execute_reply": "2022-05-24T13:13:49.492679Z",
     "shell.execute_reply.started": "2022-05-24T13:13:49.484416Z"
    },
    "tags": []
   },
   "outputs": [
    {
     "data": {
      "text/plain": [
       "'\\ufeffArthur Conan Doyle\\n\\nThe Hound of the Baskervilles\\n\\nChapter 1\\n\\nMr. Sherlock Holmes \\n\\nMr. Sherlock Holmes, who was usually very late in the mornings, save upon those not infrequent occasions when he was up all night, was seated at the breakfast table. I stood upon the hearth-rug and picked up the stick which our visitor had left behind him the night before. It was a fine, thick piece of wood, bulbous-headed, of the sort which is known as a \"Penang law- yer.\" Just under the head was a broad silver'"
      ]
     },
     "execution_count": 5,
     "metadata": {},
     "output_type": "execute_result"
    }
   ],
   "source": [
    "# Preview\n",
    "txt[:500]"
   ]
  },
  {
   "cell_type": "markdown",
   "id": "0724423d-7ded-40fe-b32a-b21891c66f9e",
   "metadata": {},
   "source": [
    "Write function"
   ]
  },
  {
   "cell_type": "code",
   "execution_count": 7,
   "id": "70648829-59fd-4552-9021-e7742e318188",
   "metadata": {
    "execution": {
     "iopub.execute_input": "2022-05-24T13:16:00.401588Z",
     "iopub.status.busy": "2022-05-24T13:16:00.401059Z",
     "iopub.status.idle": "2022-05-24T13:16:00.410930Z",
     "shell.execute_reply": "2022-05-24T13:16:00.409345Z",
     "shell.execute_reply.started": "2022-05-24T13:16:00.401537Z"
    },
    "tags": []
   },
   "outputs": [],
   "source": [
    "def load_txt(data):\n",
    "    # Loading a text from data folder - get a new text - this one is too long\n",
    "    filepath = os.path.join(\"in\", data)\n",
    "    with open(filepath, \"r\") as f:\n",
    "        txt = f.read()\n",
    "    \n",
    "    return txt"
   ]
  },
  {
   "cell_type": "code",
   "execution_count": 12,
   "id": "6f665ef8-d721-421e-8ecc-757f4f8c9753",
   "metadata": {
    "execution": {
     "iopub.execute_input": "2022-05-24T13:18:29.867475Z",
     "iopub.status.busy": "2022-05-24T13:18:29.866943Z",
     "iopub.status.idle": "2022-05-24T13:18:29.876058Z",
     "shell.execute_reply": "2022-05-24T13:18:29.874644Z",
     "shell.execute_reply.started": "2022-05-24T13:18:29.867424Z"
    },
    "tags": []
   },
   "outputs": [],
   "source": [
    "txt = load_txt(\"Doyle_Hound_1902.txt\")"
   ]
  },
  {
   "cell_type": "code",
   "execution_count": 13,
   "id": "d4b3b3ce-5141-40cc-a639-967bc5d7c580",
   "metadata": {
    "execution": {
     "iopub.execute_input": "2022-05-24T13:18:30.539413Z",
     "iopub.status.busy": "2022-05-24T13:18:30.538945Z",
     "iopub.status.idle": "2022-05-24T13:18:30.548471Z",
     "shell.execute_reply": "2022-05-24T13:18:30.547000Z",
     "shell.execute_reply.started": "2022-05-24T13:18:30.539366Z"
    },
    "tags": []
   },
   "outputs": [
    {
     "data": {
      "text/plain": [
       "'\\ufeffArthur Conan Doyle\\n\\nThe Hound of the Baskervilles\\n\\nChapter 1\\n\\nMr. Sherlock Holmes \\n\\nMr. Sherlock Holmes, who was usually very late in the mornings, save upon those not infrequent occasions when he was up all night, was seated at the breakfast table. I stood upon the hearth-rug and picked up the stick which our visitor had left behind him the night before. It was a fine, thick piece of wood, bulbous-headed, of the sort which is known as a \"Penang law- yer.\" Just under the head was a broad silver'"
      ]
     },
     "execution_count": 13,
     "metadata": {},
     "output_type": "execute_result"
    }
   ],
   "source": [
    "# Preview\n",
    "txt[:500]"
   ]
  },
  {
   "cell_type": "markdown",
   "id": "a6d6c000-65f2-435f-a46d-89b3de94a1fe",
   "metadata": {},
   "source": [
    "## Normalization"
   ]
  },
  {
   "cell_type": "markdown",
   "id": "abbe0d5f-ad61-4ed6-be21-ed9be013bc4f",
   "metadata": {},
   "source": [
    "Remove punctuation"
   ]
  },
  {
   "cell_type": "code",
   "execution_count": 14,
   "id": "1de6b03d-7f3d-44f0-9e56-bc0f8f2d2a65",
   "metadata": {
    "execution": {
     "iopub.execute_input": "2022-05-24T13:18:36.236006Z",
     "iopub.status.busy": "2022-05-24T13:18:36.235466Z",
     "iopub.status.idle": "2022-05-24T13:18:36.274763Z",
     "shell.execute_reply": "2022-05-24T13:18:36.274036Z",
     "shell.execute_reply.started": "2022-05-24T13:18:36.235956Z"
    },
    "tags": []
   },
   "outputs": [],
   "source": [
    "no_punct = re.sub(\"[^\\w\\s]\", '', txt)\n",
    "no_numbers = re.sub(\"\\d\", '', no_punct)\n",
    "no_newline = re.sub(\"\\s+\", ' ', no_numbers) "
   ]
  },
  {
   "cell_type": "markdown",
   "id": "a7c5527b-caa0-4290-9293-6d007b1a016d",
   "metadata": {},
   "source": [
    "Spacy"
   ]
  },
  {
   "cell_type": "markdown",
   "id": "71b9e4f7-4211-4d9e-be16-d41862fe6197",
   "metadata": {},
   "source": [
    "ValueError: [E088] Text of length 1002050 exceeds maximum of 1000000. The parser and NER models require roughly 1GB of temporary memory per 100,000 characters in the input. This means long texts may cause memory allocation errors. If you're not using the parser or NER, it's probably safe to increase the `nlp.max_length` limit. The limit is in number of characters, so you can check whether your inputs are too long by checking `len(text)`."
   ]
  },
  {
   "cell_type": "code",
   "execution_count": 15,
   "id": "e80f2413-b6ec-4eb6-ac9c-26bf372716d4",
   "metadata": {
    "execution": {
     "iopub.execute_input": "2022-05-24T13:18:38.683966Z",
     "iopub.status.busy": "2022-05-24T13:18:38.683417Z",
     "iopub.status.idle": "2022-05-24T13:18:45.387285Z",
     "shell.execute_reply": "2022-05-24T13:18:45.385777Z",
     "shell.execute_reply.started": "2022-05-24T13:18:38.683913Z"
    },
    "tags": []
   },
   "outputs": [],
   "source": [
    "doc = nlp(no_newline)"
   ]
  },
  {
   "cell_type": "markdown",
   "id": "ae1fd7f2-52b5-4c01-8faa-3810b626bb27",
   "metadata": {},
   "source": [
    "Write function"
   ]
  },
  {
   "cell_type": "code",
   "execution_count": 19,
   "id": "17c8033e-6567-418c-ad30-1a78bde6c992",
   "metadata": {
    "execution": {
     "iopub.execute_input": "2022-05-24T13:22:43.119439Z",
     "iopub.status.busy": "2022-05-24T13:22:43.118913Z",
     "iopub.status.idle": "2022-05-24T13:22:43.127950Z",
     "shell.execute_reply": "2022-05-24T13:22:43.126821Z",
     "shell.execute_reply.started": "2022-05-24T13:22:43.119388Z"
    },
    "tags": []
   },
   "outputs": [],
   "source": [
    "def normalize(txt):\n",
    "    # Remove punctuation\n",
    "    no_punct = re.sub(\"[^\\w\\s]\", '', txt)\n",
    "    # Remove numbers\n",
    "    no_numbers = re.sub(\"\\d\", '', no_punct)\n",
    "    # Remove newline\n",
    "    no_newline = re.sub(\"\\s+\", ' ', no_numbers) \n",
    "    \n",
    "    return no_newline"
   ]
  },
  {
   "cell_type": "code",
   "execution_count": 20,
   "id": "fa2b0a2f-8aae-4757-821d-4eed260eb683",
   "metadata": {
    "execution": {
     "iopub.execute_input": "2022-05-24T13:23:01.723417Z",
     "iopub.status.busy": "2022-05-24T13:23:01.722896Z",
     "iopub.status.idle": "2022-05-24T13:23:01.761177Z",
     "shell.execute_reply": "2022-05-24T13:23:01.760026Z",
     "shell.execute_reply.started": "2022-05-24T13:23:01.723368Z"
    }
   },
   "outputs": [],
   "source": [
    "no_newline = normalize(txt)"
   ]
  },
  {
   "cell_type": "code",
   "execution_count": 21,
   "id": "a6539bda-fca6-47d0-a552-9a5bd3986aae",
   "metadata": {
    "execution": {
     "iopub.execute_input": "2022-05-24T13:23:22.780096Z",
     "iopub.status.busy": "2022-05-24T13:23:22.779547Z",
     "iopub.status.idle": "2022-05-24T13:23:22.789510Z",
     "shell.execute_reply": "2022-05-24T13:23:22.788020Z",
     "shell.execute_reply.started": "2022-05-24T13:23:22.780047Z"
    }
   },
   "outputs": [
    {
     "data": {
      "text/plain": [
       "'Arthur Conan Doyle The Hound of the Baskervilles Chapter Mr Sherlock Holmes Mr Sherlock Holmes who was usually very late in the mornings save upon those not infrequent occasions when he was up all night was seated at the breakfast table I stood upon the hearthrug and picked up the stick which our visitor had left behind him the night before It was a fine thick piece of wood bulbousheaded of the sort which is known as a Penang law yer Just under the head was a broad silver band nearly an inch acr'"
      ]
     },
     "execution_count": 21,
     "metadata": {},
     "output_type": "execute_result"
    }
   ],
   "source": [
    "# Preview\n",
    "no_newline[:500]"
   ]
  },
  {
   "cell_type": "markdown",
   "id": "06a6954c-0f85-436d-916b-efb00efd0f71",
   "metadata": {},
   "source": [
    "## Search Keyword"
   ]
  },
  {
   "cell_type": "code",
   "execution_count": 27,
   "id": "7d317fe2-e0f0-4b3c-8157-e4550fb56217",
   "metadata": {
    "execution": {
     "iopub.execute_input": "2022-05-24T13:32:02.746135Z",
     "iopub.status.busy": "2022-05-24T13:32:02.745465Z",
     "iopub.status.idle": "2022-05-24T13:32:02.783125Z",
     "shell.execute_reply": "2022-05-24T13:32:02.782337Z",
     "shell.execute_reply.started": "2022-05-24T13:32:02.746084Z"
    },
    "tags": []
   },
   "outputs": [
    {
     "name": "stdout",
     "output_type": "stream",
     "text": [
      "[(44743, 'murder', 'NOUN', 'murder'), (45662, 'murdered', 'VERB', 'murder'), (50328, 'murder', 'NOUN', 'murder'), (51087, 'murders', 'NOUN', 'murder'), (55584, 'murder', 'NOUN', 'murder'), (58681, 'murder', 'NOUN', 'murder'), (58950, 'murder', 'VERB', 'murder')]\n"
     ]
    }
   ],
   "source": [
    "# Printing the keyword\n",
    "keyword = \"murder\"\n",
    "\n",
    "search_result = []\n",
    "for token in doc: \n",
    "    if token.lemma_ == keyword:\n",
    "        search_result.append((token.i, token.lower_, token.pos_, token.lemma_))\n",
    "    else:\n",
    "        pass\n",
    "print(search_result)"
   ]
  },
  {
   "cell_type": "markdown",
   "id": "e9374482-9116-4edd-ab10-016dad1b4b2c",
   "metadata": {},
   "source": [
    "Write function"
   ]
  },
  {
   "cell_type": "code",
   "execution_count": 24,
   "id": "b5fcfad1-6815-48d3-bff5-6c31c4c98ffe",
   "metadata": {
    "execution": {
     "iopub.execute_input": "2022-05-24T13:30:50.544004Z",
     "iopub.status.busy": "2022-05-24T13:30:50.543466Z",
     "iopub.status.idle": "2022-05-24T13:30:50.553165Z",
     "shell.execute_reply": "2022-05-24T13:30:50.551869Z",
     "shell.execute_reply.started": "2022-05-24T13:30:50.543954Z"
    }
   },
   "outputs": [],
   "source": [
    "def search_keyword(doc, keyword):\n",
    "    # Define empthy list \n",
    "    search_result = []\n",
    "    # Iterate through token in doc\n",
    "    for token in doc:\n",
    "        # find keyword in text\n",
    "        if token.lower_ == keyword:\n",
    "            search_result.append((token.i, token.lower_, token.pos_, token.lemma_))\n",
    "        else:\n",
    "            pass\n",
    "        \n",
    "    return search_result"
   ]
  },
  {
   "cell_type": "code",
   "execution_count": 25,
   "id": "88711f96-9ac1-4f24-8087-31a58f3f57e6",
   "metadata": {
    "execution": {
     "iopub.execute_input": "2022-05-24T13:31:13.666609Z",
     "iopub.status.busy": "2022-05-24T13:31:13.666091Z",
     "iopub.status.idle": "2022-05-24T13:31:13.699938Z",
     "shell.execute_reply": "2022-05-24T13:31:13.698632Z",
     "shell.execute_reply.started": "2022-05-24T13:31:13.666559Z"
    }
   },
   "outputs": [],
   "source": [
    "result = search_keyword(doc, \"murder\")"
   ]
  },
  {
   "cell_type": "code",
   "execution_count": 26,
   "id": "4a3ff70a-d6a2-41a6-bdda-01672bb3782a",
   "metadata": {
    "execution": {
     "iopub.execute_input": "2022-05-24T13:31:26.903034Z",
     "iopub.status.busy": "2022-05-24T13:31:26.902516Z",
     "iopub.status.idle": "2022-05-24T13:31:26.911966Z",
     "shell.execute_reply": "2022-05-24T13:31:26.911038Z",
     "shell.execute_reply.started": "2022-05-24T13:31:26.902985Z"
    }
   },
   "outputs": [
    {
     "data": {
      "text/plain": [
       "[(44743, 'murder', 'NOUN', 'murder'),\n",
       " (50328, 'murder', 'NOUN', 'murder'),\n",
       " (55584, 'murder', 'NOUN', 'murder'),\n",
       " (58681, 'murder', 'NOUN', 'murder'),\n",
       " (58950, 'murder', 'VERB', 'murder')]"
      ]
     },
     "execution_count": 26,
     "metadata": {},
     "output_type": "execute_result"
    }
   ],
   "source": [
    "result"
   ]
  },
  {
   "cell_type": "markdown",
   "id": "65ea8ef8-b6ef-4ef2-84ec-2978f8b6438c",
   "metadata": {},
   "source": [
    "## Find Context Words"
   ]
  },
  {
   "cell_type": "code",
   "execution_count": 37,
   "id": "e885299e-e1a4-4dc5-8e48-7a58baed2dd7",
   "metadata": {
    "execution": {
     "iopub.execute_input": "2022-05-24T13:39:43.553252Z",
     "iopub.status.busy": "2022-05-24T13:39:43.552692Z",
     "iopub.status.idle": "2022-05-24T13:39:43.594586Z",
     "shell.execute_reply": "2022-05-24T13:39:43.593779Z",
     "shell.execute_reply.started": "2022-05-24T13:39:43.553195Z"
    },
    "tags": []
   },
   "outputs": [
    {
     "name": "stdout",
     "output_type": "stream",
     "text": [
      "[(44738, 'as', 'SCONJ', 'as'), (44739, 'he', 'PRON', 'he'), (44740, 'answered', 'VERB', 'answer'), (44741, 'It', 'PRON', 'it'), (44742, 'is', 'AUX', 'be'), (44744, 'Watson', 'PROPN', 'Watson'), (44745, 'refined', 'VERB', 'refine'), (44746, 'coldblooded', 'VERB', 'coldbloode'), (44747, 'deliberate', 'ADJ', 'deliberate'), (44748, 'mur', 'ADJ', 'mur'), (50323, 'this', 'DET', 'this'), (50324, 'case', 'NOUN', 'case'), (50325, 'as', 'ADP', 'as'), (50326, 'one', 'NUM', 'one'), (50327, 'of', 'ADP', 'of'), (50329, 'and', 'CCONJ', 'and'), (50330, 'the', 'DET', 'the'), (50331, 'evidence', 'NOUN', 'evidence'), (50332, 'may', 'AUX', 'may'), (50333, 'implicate', 'VERB', 'implicate'), (55579, 'Montpensier', 'PROPN', 'Montpensier'), (55580, 'from', 'ADP', 'from'), (55581, 'the', 'DET', 'the'), (55582, 'charge', 'NOUN', 'charge'), (55583, 'of', 'ADP', 'of'), (55585, 'which', 'PRON', 'which'), (55586, 'hung', 'VERB', 'hang'), (55587, 'over', 'ADP', 'over'), (55588, 'her', 'PRON', 'she'), (55589, 'in', 'ADP', 'in'), (58676, 'help', 'VERB', 'help'), (58677, 'us', 'PRON', 'we'), (58678, 'much', 'ADV', 'much'), (58679, 'in', 'ADP', 'in'), (58680, 'proving', 'VERB', 'prove'), (58682, 'against', 'ADP', 'against'), (58683, 'our', 'PRON', 'our'), (58684, 'man', 'NOUN', 'man'), (58685, 'There', 'PRON', 'there'), (58686, 'seemed', 'VERB', 'seem'), (58945, 'her', 'PRON', 'she'), (58946, 'the', 'DET', 'the'), (58947, 'direct', 'ADJ', 'direct'), (58948, 'accessory', 'NOUN', 'accessory'), (58949, 'to', 'PART', 'to'), (58951, 'She', 'PRON', 'she'), (58952, 'was', 'AUX', 'be'), (58953, 'ready', 'ADJ', 'ready'), (58954, 'to', 'PART', 'to'), (58955, 'warn', 'VERB', 'warn')]\n"
     ]
    }
   ],
   "source": [
    "# Printing context words\n",
    "window = 5\n",
    "\n",
    "context_words = []\n",
    "for token in doc: \n",
    "    if token.lower_ == keyword:\n",
    "        # Context words before keyword\n",
    "        for before_word in doc[token.i-(window):token.i]:\n",
    "            context_words.append((before_word.i, before_word.text, before_word.pos_, before_word.lemma_))\n",
    "        # Context words after keyword    \n",
    "        for after_word in doc[token.i+1:token.i+window+1]:\n",
    "            context_words.append((after_word.i, after_word.text, after_word.pos_, after_word.lemma_))\n",
    "    else:\n",
    "        pass\n",
    "print(context_words)          "
   ]
  },
  {
   "cell_type": "markdown",
   "id": "12c34686-5cd3-44ca-84c5-af13837f5b49",
   "metadata": {},
   "source": [
    "Write function"
   ]
  },
  {
   "cell_type": "code",
   "execution_count": 54,
   "id": "7f42d445-b0c6-464d-b7b0-4c815afed567",
   "metadata": {
    "execution": {
     "iopub.execute_input": "2022-05-24T14:08:58.370770Z",
     "iopub.status.busy": "2022-05-24T14:08:58.370228Z",
     "iopub.status.idle": "2022-05-24T14:08:58.381654Z",
     "shell.execute_reply": "2022-05-24T14:08:58.380673Z",
     "shell.execute_reply.started": "2022-05-24T14:08:58.370702Z"
    },
    "tags": []
   },
   "outputs": [],
   "source": [
    "def find_context(doc, keyword, window): \n",
    "    # Define empthy list\n",
    "    context_words = []\n",
    "    \n",
    "    # Iterate through tokens in doc\n",
    "    for token in doc: \n",
    "        if token.lower_ == keyword:\n",
    "            # Context words before keyword\n",
    "            for before_word in doc[token.i-(window):token.i]:\n",
    "                context_words.append((before_word.i, before_word.lower_))\n",
    "            # Context words after keyword    \n",
    "            for after_word in doc[token.i+1:token.i+window+1]:\n",
    "                context_words.append((after_word.i, after_word.lower_))\n",
    "        else:\n",
    "            pass\n",
    "        \n",
    "    return context_words"
   ]
  },
  {
   "cell_type": "code",
   "execution_count": 55,
   "id": "123dcadf-cd98-4ac2-8cac-033a215c493a",
   "metadata": {
    "execution": {
     "iopub.execute_input": "2022-05-24T14:08:59.260973Z",
     "iopub.status.busy": "2022-05-24T14:08:59.260466Z",
     "iopub.status.idle": "2022-05-24T14:08:59.293254Z",
     "shell.execute_reply": "2022-05-24T14:08:59.292507Z",
     "shell.execute_reply.started": "2022-05-24T14:08:59.260923Z"
    },
    "tags": []
   },
   "outputs": [],
   "source": [
    "context_words = find_context(doc, \"murder\", 5)"
   ]
  },
  {
   "cell_type": "markdown",
   "id": "e6f25f43-961b-426a-bbc0-174c5dc9e68a",
   "metadata": {},
   "source": [
    "## Calculate Mutual Information score"
   ]
  },
  {
   "cell_type": "code",
   "execution_count": 43,
   "id": "d0ca0f48-fbb6-4759-ae8f-51da4a25602b",
   "metadata": {
    "execution": {
     "iopub.execute_input": "2022-05-24T13:43:52.723767Z",
     "iopub.status.busy": "2022-05-24T13:43:52.723221Z",
     "iopub.status.idle": "2022-05-24T13:43:52.763627Z",
     "shell.execute_reply": "2022-05-24T13:43:52.762123Z",
     "shell.execute_reply.started": "2022-05-24T13:43:52.723694Z"
    },
    "tags": []
   },
   "outputs": [
    {
     "name": "stdout",
     "output_type": "stream",
     "text": [
      "['Arthur', 'Conan', 'Doyle', 'the', 'Hound', 'of', 'the', 'Baskervilles', 'chapter', 'Mr']\n"
     ]
    }
   ],
   "source": [
    "# Creating a list of word lemmas\n",
    "lemma_list = []\n",
    "\n",
    "for token in doc: \n",
    "    lemma_list.append(token.lemma_)\n",
    "\n",
    "print(lemma_list[0:10])"
   ]
  },
  {
   "cell_type": "code",
   "execution_count": 44,
   "id": "e99436f9-2b7b-4c15-ac46-37ba9d10763a",
   "metadata": {
    "execution": {
     "iopub.execute_input": "2022-05-24T13:43:58.669699Z",
     "iopub.status.busy": "2022-05-24T13:43:58.669174Z",
     "iopub.status.idle": "2022-05-24T13:43:58.745949Z",
     "shell.execute_reply": "2022-05-24T13:43:58.744844Z",
     "shell.execute_reply.started": "2022-05-24T13:43:58.669650Z"
    },
    "tags": []
   },
   "outputs": [
    {
     "name": "stdout",
     "output_type": "stream",
     "text": [
      "[('as', 405, 2, 2.072012007292924), ('he', 1232, 1, -0.5329964356299903), ('answer', 33, 1, 4.689395985706458), ('it', 980, 1, -0.20284783393765946), ('be', 2506, 2, -0.5573805942569495), ('Watson', 112, 1, 2.9264351830073068), ('refine', 1, 1, 9.73379010506491), ('coldbloode', 1, 1, 9.73379010506491), ('deliberate', 1, 1, 9.73379010506491), ('mur', 1, 1, 9.73379010506491), ('this', 337, 1, 1.3371853238830524), ('case', 78, 1, 3.448387886202663), ('as', 405, 2, 2.072012007292924), ('one', 248, 1, 1.7795937946780358), ('of', 1593, 2, 0.09625955353960121), ('and', 1627, 1, -0.9342084306076166), ('the', 3329, 3, -0.38212054935419587), ('evidence', 13, 1, 6.033350386923819), ('may', 99, 1, 3.104433484985301), ('implicate', 2, 1, 8.73379010506491), ('Montpensier', 1, 1, 9.73379010506491), ('from', 286, 1, 1.5739187682865217), ('the', 3329, 3, -0.38212054935419587), ('charge', 7, 1, 6.926435183007307), ('of', 1593, 2, 0.09625955353960121), ('which', 416, 1, 1.033350386923819), ('hang', 11, 1, 6.274358486427613), ('over', 114, 1, 2.900900090900169), ('she', 206, 3, 3.6322520786028485), ('in', 912, 2, 0.9009000909001693), ('help', 49, 1, 4.119080260949703), ('we', 637, 1, 0.4186405428086107), ('much', 77, 1, 3.46700356437001), ('in', 912, 2, 0.9009000909001693), ('prove', 14, 1, 5.926435183007307), ('against', 46, 1, 4.210228149007898), ('our', 206, 1, 2.0472895778816924), ('man', 227, 1, 1.9072416177739961), ('there', 313, 1, 1.4437712581322926), ('seem', 73, 1, 3.543965546184894), ('she', 206, 3, 3.6322520786028485), ('the', 3329, 3, -0.38212054935419587), ('direct', 8, 1, 6.7337901050649105), ('accessory', 1, 1, 9.73379010506491), ('to', 1409, 2, 0.2733342087552745), ('she', 206, 3, 3.6322520786028485), ('be', 2506, 2, -0.5573805942569495), ('ready', 22, 1, 5.274358486427614), ('to', 1409, 2, 0.2733342087552745), ('warn', 8, 1, 6.7337901050649105)]\n"
     ]
    }
   ],
   "source": [
    "# Import math package\n",
    "import math\n",
    "\n",
    "# Create list of context words\n",
    "context_words_lemma = [sublist[3] for sublist in context_words]\n",
    "\n",
    "# Define variables in the MI formula that does not need a for-loop\n",
    "A = lemma_list.count(keyword)\n",
    "size_corpus = len(lemma_list)\n",
    "span = window*2\n",
    "\n",
    "# Defining empty list for output\n",
    "collocate_info = []\n",
    "\n",
    "for word in context_words_lemma:\n",
    "    B = lemma_list.count(word)\n",
    "    AB = context_words_lemma.count(word)\n",
    "    MI = math.log10( (AB*size_corpus) / (A * B * span) ) / math.log10(2)\n",
    "    collocate_info.append((word, B, AB, MI))\n",
    "\n",
    "print(collocate_info)"
   ]
  },
  {
   "cell_type": "markdown",
   "id": "90565942-b320-4a36-8a2e-1fa7e0407216",
   "metadata": {},
   "source": [
    "Write function"
   ]
  },
  {
   "cell_type": "code",
   "execution_count": 50,
   "id": "a232d60d-2419-46da-bd3b-bb84749f24f3",
   "metadata": {
    "execution": {
     "iopub.execute_input": "2022-05-24T14:06:50.561586Z",
     "iopub.status.busy": "2022-05-24T14:06:50.561057Z",
     "iopub.status.idle": "2022-05-24T14:06:50.574413Z",
     "shell.execute_reply": "2022-05-24T14:06:50.572848Z",
     "shell.execute_reply.started": "2022-05-24T14:06:50.561535Z"
    },
    "tags": []
   },
   "outputs": [],
   "source": [
    "def get_MI(window, keyword, context_words):\n",
    "    # Create list of context words\n",
    "    context_word_list = [sublist[1] for sublist in context_words]\n",
    "    \n",
    "    # Define empthy list\n",
    "    word_list = []\n",
    "    # Create list of words in corpus to count word frequency\n",
    "    for token in doc: \n",
    "        word_list.append(token.lower_)\n",
    "\n",
    "    # Define variables in the MI formula that does not need a for-loop\n",
    "    A = word_list.count(keyword)\n",
    "    size_corpus = len(word_list)\n",
    "    span = window*2\n",
    "\n",
    "    # Defining empty list for output\n",
    "    collocate_info = []\n",
    "\n",
    "    # Get mutual informaition scores\n",
    "    for word in context_word_list:\n",
    "        # Define variables in the MI formula that need a for-loop\n",
    "        B = word_list.count(word)\n",
    "        AB = context_word_list.count(word)\n",
    "        # Calculate MI score\n",
    "        MI = math.log10( (AB*size_corpus) / (A * B * span) ) / math.log10(2)\n",
    "        # Save informatio to list \n",
    "        collocate_info.append((word, B, AB, MI))\n",
    "\n",
    "    return collocate_info"
   ]
  },
  {
   "cell_type": "code",
   "execution_count": 56,
   "id": "739bbfda-f602-4472-8547-17276e4d5d2b",
   "metadata": {
    "execution": {
     "iopub.execute_input": "2022-05-24T14:09:07.940155Z",
     "iopub.status.busy": "2022-05-24T14:09:07.939617Z",
     "iopub.status.idle": "2022-05-24T14:09:08.019673Z",
     "shell.execute_reply": "2022-05-24T14:09:08.019088Z",
     "shell.execute_reply.started": "2022-05-24T14:09:07.940104Z"
    },
    "tags": []
   },
   "outputs": [],
   "source": [
    "collocate_info = get_MI(5, \"murder\", context_words)"
   ]
  },
  {
   "cell_type": "markdown",
   "id": "6abb41f4-b393-4be6-ac37-9a6942d7f8ad",
   "metadata": {},
   "source": [
    "## Save to CSV"
   ]
  },
  {
   "cell_type": "code",
   "execution_count": 59,
   "id": "8bc4d9b6-699d-45a9-a18c-6a125605d775",
   "metadata": {
    "execution": {
     "iopub.execute_input": "2022-03-01T16:17:46.671653Z",
     "iopub.status.busy": "2022-03-01T16:17:46.671126Z",
     "iopub.status.idle": "2022-03-01T16:17:46.945171Z",
     "shell.execute_reply": "2022-03-01T16:17:46.944002Z",
     "shell.execute_reply.started": "2022-03-01T16:17:46.671605Z"
    },
    "tags": []
   },
   "outputs": [],
   "source": [
    "# Import pandas\n",
    "# import pandas as pd\n",
    "# create a dataframe\n",
    "# collocate_df = pd.DataFrame(collocate_info, columns=[\"collocate_term\", \"app_in_text\", \"app_in_context\", \"MI\"])"
   ]
  },
  {
   "cell_type": "code",
   "execution_count": 57,
   "id": "f82667cd-3d28-4b4c-8f4f-3731b3c96435",
   "metadata": {
    "execution": {
     "iopub.execute_input": "2022-05-24T14:10:18.071793Z",
     "iopub.status.busy": "2022-05-24T14:10:18.071233Z",
     "iopub.status.idle": "2022-05-24T14:10:18.077857Z",
     "shell.execute_reply": "2022-05-24T14:10:18.076599Z",
     "shell.execute_reply.started": "2022-05-24T14:10:18.071740Z"
    },
    "tags": []
   },
   "outputs": [],
   "source": [
    "# Saving CSV\n",
    "# outpath = os.path.join(\"Output\", \"collocate_df.csv\")\n",
    "# collocate_df.to_csv(outpath, index=False)"
   ]
  },
  {
   "cell_type": "markdown",
   "id": "dda7b14b-7f69-4a1a-8116-39d3e3218b18",
   "metadata": {},
   "source": [
    "Write function "
   ]
  },
  {
   "cell_type": "code",
   "execution_count": 58,
   "id": "406d2602-c2a8-4591-8a27-0a22f31568b4",
   "metadata": {
    "execution": {
     "iopub.execute_input": "2022-05-24T14:13:51.744169Z",
     "iopub.status.busy": "2022-05-24T14:13:51.743590Z",
     "iopub.status.idle": "2022-05-24T14:13:51.752884Z",
     "shell.execute_reply": "2022-05-24T14:13:51.752037Z",
     "shell.execute_reply.started": "2022-05-24T14:13:51.744106Z"
    }
   },
   "outputs": [],
   "source": [
    "def save_data(collocate_info):\n",
    "    # create a dataframe\n",
    "    collocate_df = pd.DataFrame(collocate_info, columns=[\"collocate_term\", \"app_in_text\", \"app_in_context\", \"MI\"])\n",
    "    # Saving CSV\n",
    "    outpath = os.path.join(\"output\", \"collocate_df.csv\")\n",
    "    collocate_df.to_csv(outpath, index=False)"
   ]
  },
  {
   "cell_type": "code",
   "execution_count": 59,
   "id": "bae347f3-de62-4542-a8eb-afe2a52e6c3e",
   "metadata": {
    "execution": {
     "iopub.execute_input": "2022-05-24T14:14:02.681306Z",
     "iopub.status.busy": "2022-05-24T14:14:02.680522Z",
     "iopub.status.idle": "2022-05-24T14:14:06.203450Z",
     "shell.execute_reply": "2022-05-24T14:14:06.202047Z",
     "shell.execute_reply.started": "2022-05-24T14:14:02.681251Z"
    }
   },
   "outputs": [],
   "source": [
    "save_data(collocate_info)"
   ]
  },
  {
   "cell_type": "code",
   "execution_count": null,
   "id": "c90dc1e8-bff4-44b5-b7c4-8b0d65737828",
   "metadata": {},
   "outputs": [],
   "source": []
  }
 ],
 "metadata": {
  "kernelspec": {
   "display_name": "Python 3 ",
   "language": "python",
   "name": "python3"
  },
  "language_info": {
   "codemirror_mode": {
    "name": "ipython",
    "version": 3
   },
   "file_extension": ".py",
   "mimetype": "text/x-python",
   "name": "python",
   "nbconvert_exporter": "python",
   "pygments_lexer": "ipython3",
   "version": "3.9.6"
  }
 },
 "nbformat": 4,
 "nbformat_minor": 5
}
