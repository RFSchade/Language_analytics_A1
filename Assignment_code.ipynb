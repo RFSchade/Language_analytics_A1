{
 "cells": [
  {
   "cell_type": "markdown",
   "id": "53c96c6d-714d-4082-a4c0-7e8c6b5307fc",
   "metadata": {},
   "source": [
    "# Assignment 1: Calculating the mutual information score"
   ]
  },
  {
   "cell_type": "markdown",
   "id": "be6a1b17-6d3f-402a-9d9e-246f13e8e528",
   "metadata": {},
   "source": [
    "Import Packages\n",
    "(remember to install SpaCy and download the language model from the terminal)"
   ]
  },
  {
   "cell_type": "code",
   "execution_count": 1,
   "id": "daf2901c-674c-4b6a-a06a-e6b19db58157",
   "metadata": {
    "execution": {
     "iopub.execute_input": "2022-03-01T15:13:08.240363Z",
     "iopub.status.busy": "2022-03-01T15:13:08.239848Z",
     "iopub.status.idle": "2022-03-01T15:13:09.099516Z",
     "shell.execute_reply": "2022-03-01T15:13:09.098310Z",
     "shell.execute_reply.started": "2022-03-01T15:13:08.240314Z"
    },
    "tags": []
   },
   "outputs": [],
   "source": [
    "import os\n",
    "import re\n",
    "import spacy\n",
    "# Loading language model into pipeline\n",
    "nlp = spacy.load(\"en_core_web_sm\")"
   ]
  },
  {
   "cell_type": "markdown",
   "id": "2f2787fd-b49f-4b9b-86db-b9a67799ebc1",
   "metadata": {},
   "source": [
    "## Load the text"
   ]
  },
  {
   "cell_type": "code",
   "execution_count": 2,
   "id": "b7417457-d39c-47cb-83e6-27f92a3d83e0",
   "metadata": {
    "execution": {
     "iopub.execute_input": "2022-03-01T15:13:11.556210Z",
     "iopub.status.busy": "2022-03-01T15:13:11.555536Z",
     "iopub.status.idle": "2022-03-01T15:13:11.589351Z",
     "shell.execute_reply": "2022-03-01T15:13:11.588030Z",
     "shell.execute_reply.started": "2022-03-01T15:13:11.556158Z"
    },
    "tags": []
   },
   "outputs": [],
   "source": [
    "# Loading a text from data folder - get a new text - this one is too long\n",
    "filepath = os.path.join(\"Data\", \"Doyle_Hound_1902.txt\")\n",
    "with open(filepath, \"r\") as f:\n",
    "    txt = f.read()"
   ]
  },
  {
   "cell_type": "markdown",
   "id": "a056ba1e-35e9-4565-b40c-770e933a5a15",
   "metadata": {},
   "source": [
    "## Normalization"
   ]
  },
  {
   "cell_type": "markdown",
   "id": "2085efc2-ae9e-46e8-a443-9d4906f620c2",
   "metadata": {},
   "source": [
    "Remove punctuation"
   ]
  },
  {
   "cell_type": "code",
   "execution_count": 3,
   "id": "23e74328-13a1-4cd0-9890-29368cb8623a",
   "metadata": {
    "execution": {
     "iopub.execute_input": "2022-03-01T15:13:16.037387Z",
     "iopub.status.busy": "2022-03-01T15:13:16.036881Z",
     "iopub.status.idle": "2022-03-01T15:13:16.096337Z",
     "shell.execute_reply": "2022-03-01T15:13:16.095717Z",
     "shell.execute_reply.started": "2022-03-01T15:13:16.037339Z"
    },
    "tags": []
   },
   "outputs": [],
   "source": [
    "no_punct = re.sub(\"[^\\w\\s]\", '', txt)\n",
    "no_numbers = re.sub(\"\\d\", '', no_punct)\n",
    "no_newline = re.sub(\"\\s+\", ' ', no_numbers) "
   ]
  },
  {
   "cell_type": "markdown",
   "id": "6be2ca1a-2e44-466b-8b88-49dbb4e65564",
   "metadata": {},
   "source": [
    "Spacy"
   ]
  },
  {
   "cell_type": "code",
   "execution_count": 4,
   "id": "1f7cadfc-1179-44bb-a04e-f057fca4296a",
   "metadata": {
    "execution": {
     "iopub.execute_input": "2022-03-01T15:13:18.032093Z",
     "iopub.status.busy": "2022-03-01T15:13:18.031561Z",
     "iopub.status.idle": "2022-03-01T15:13:29.011488Z",
     "shell.execute_reply": "2022-03-01T15:13:29.009952Z",
     "shell.execute_reply.started": "2022-03-01T15:13:18.032044Z"
    },
    "tags": []
   },
   "outputs": [],
   "source": [
    "doc = nlp(no_newline)"
   ]
  },
  {
   "cell_type": "markdown",
   "id": "72138255-0e14-4d47-b3e6-69f534c8abb2",
   "metadata": {},
   "source": [
    "## Search Keyword"
   ]
  },
  {
   "cell_type": "code",
   "execution_count": 6,
   "id": "5e076aee-1193-4be4-9cbc-99cd57d29a07",
   "metadata": {
    "execution": {
     "iopub.execute_input": "2022-03-01T15:13:29.103411Z",
     "iopub.status.busy": "2022-03-01T15:13:29.103278Z",
     "iopub.status.idle": "2022-03-01T15:13:29.152960Z",
     "shell.execute_reply": "2022-03-01T15:13:29.151932Z",
     "shell.execute_reply.started": "2022-03-01T15:13:29.103397Z"
    },
    "tags": []
   },
   "outputs": [
    {
     "name": "stdout",
     "output_type": "stream",
     "text": [
      "[(44743, 'murder', 'NOUN', 'murder'), (45662, 'murdered', 'VERB', 'murder'), (50328, 'murder', 'NOUN', 'murder'), (51087, 'murders', 'NOUN', 'murder'), (55584, 'murder', 'NOUN', 'murder'), (58681, 'murder', 'NOUN', 'murder'), (58950, 'murder', 'VERB', 'murder')]\n"
     ]
    }
   ],
   "source": [
    "# Printing the keyword\n",
    "keyword = \"murder\"\n",
    "\n",
    "search_result = []\n",
    "for token in doc: \n",
    "    if token.lemma_ == keyword:\n",
    "        search_result.append((token.i, token.text, token.pos_, token.lemma_))\n",
    "    else:\n",
    "        pass\n",
    "print(search_result)"
   ]
  },
  {
   "cell_type": "markdown",
   "id": "7e59bcf2-2a4a-463a-854e-4976b6c319ed",
   "metadata": {},
   "source": [
    "## Find Context Words"
   ]
  },
  {
   "cell_type": "code",
   "execution_count": 7,
   "id": "dc414c74-2896-47a1-9fbc-50c48a795b71",
   "metadata": {
    "execution": {
     "iopub.execute_input": "2022-03-01T15:18:43.962243Z",
     "iopub.status.busy": "2022-03-01T15:18:43.961543Z",
     "iopub.status.idle": "2022-03-01T15:18:44.000474Z",
     "shell.execute_reply": "2022-03-01T15:18:43.999166Z",
     "shell.execute_reply.started": "2022-03-01T15:18:43.962190Z"
    },
    "tags": []
   },
   "outputs": [
    {
     "name": "stdout",
     "output_type": "stream",
     "text": [
      "[(44738, 'as', 'SCONJ', 'as'), (44739, 'he', 'PRON', 'he'), (44740, 'answered', 'VERB', 'answer'), (44741, 'It', 'PRON', 'it'), (44742, 'is', 'AUX', 'be'), (44744, 'Watson', 'PROPN', 'Watson'), (44745, 'refined', 'ADJ', 'refined'), (44746, 'coldblooded', 'VERB', 'coldbloode'), (44747, 'deliberate', 'ADJ', 'deliberate'), (44748, 'mur', 'ADJ', 'mur'), (45657, 'Uncle', 'PROPN', 'Uncle'), (45658, 'and', 'CCONJ', 'and'), (45659, 'nephew', 'NOUN', 'nephew'), (45660, 'have', 'AUX', 'have'), (45661, 'been', 'AUX', 'be'), (45663, 'the', 'DET', 'the'), (45664, 'one', 'NOUN', 'one'), (45665, 'frightened', 'VERB', 'frighten'), (45666, 'to', 'ADP', 'to'), (45667, 'death', 'NOUN', 'death'), (50323, 'this', 'DET', 'this'), (50324, 'case', 'NOUN', 'case'), (50325, 'as', 'ADP', 'as'), (50326, 'one', 'NUM', 'one'), (50327, 'of', 'ADP', 'of'), (50329, 'and', 'CCONJ', 'and'), (50330, 'the', 'DET', 'the'), (50331, 'evidence', 'NOUN', 'evidence'), (50332, 'may', 'AUX', 'may'), (50333, 'implicate', 'VERB', 'implicate'), (51082, 'course', 'NOUN', 'course'), (51083, 'there', 'PRON', 'there'), (51084, 'are', 'VERB', 'be'), (51085, 'the', 'DET', 'the'), (51086, 'Anderson', 'PROPN', 'Anderson'), (51088, 'in', 'ADP', 'in'), (51089, 'North', 'PROPN', 'North'), (51090, 'Carolina', 'PROPN', 'Carolina'), (51091, 'but', 'CCONJ', 'but'), (51092, 'this', 'DET', 'this'), (55579, 'Montpensier', 'PROPN', 'Montpensier'), (55580, 'from', 'ADP', 'from'), (55581, 'the', 'DET', 'the'), (55582, 'charge', 'NOUN', 'charge'), (55583, 'of', 'ADP', 'of'), (55585, 'which', 'PRON', 'which'), (55586, 'hung', 'VERB', 'hang'), (55587, 'over', 'ADP', 'over'), (55588, 'her', 'PRON', 'she'), (55589, 'in', 'ADP', 'in'), (58676, 'help', 'VERB', 'help'), (58677, 'us', 'PRON', 'we'), (58678, 'much', 'ADV', 'much'), (58679, 'in', 'ADP', 'in'), (58680, 'proving', 'VERB', 'prove'), (58682, 'against', 'ADP', 'against'), (58683, 'our', 'PRON', 'our'), (58684, 'man', 'NOUN', 'man'), (58685, 'There', 'PRON', 'there'), (58686, 'seemed', 'VERB', 'seem'), (58945, 'her', 'PRON', 'she'), (58946, 'the', 'DET', 'the'), (58947, 'direct', 'ADJ', 'direct'), (58948, 'accessory', 'NOUN', 'accessory'), (58949, 'to', 'PART', 'to'), (58951, 'She', 'PRON', 'she'), (58952, 'was', 'AUX', 'be'), (58953, 'ready', 'ADJ', 'ready'), (58954, 'to', 'PART', 'to'), (58955, 'warn', 'VERB', 'warn')]\n"
     ]
    }
   ],
   "source": [
    "# Printing context words\n",
    "window = 5\n",
    "\n",
    "context_words = []\n",
    "for token in doc: \n",
    "    if token.lemma_ == keyword:\n",
    "        # Context words before keyword\n",
    "        for before_word in doc[token.i-(window):token.i]:\n",
    "            context_words.append((before_word.i, before_word.text, before_word.pos_, before_word.lemma_))\n",
    "        # Context words after keyword    \n",
    "        for after_word in doc[token.i+1:token.i+window+1]:\n",
    "            context_words.append((after_word.i, after_word.text, after_word.pos_, after_word.lemma_))\n",
    "    else:\n",
    "        pass\n",
    "print(context_words)          "
   ]
  },
  {
   "cell_type": "markdown",
   "id": "57358243-3a89-4233-a972-e86c90649116",
   "metadata": {},
   "source": [
    "## Calculate Mutual Information score"
   ]
  },
  {
   "cell_type": "code",
   "execution_count": 11,
   "id": "c1546f1d-7446-4cc4-8ec7-674101507268",
   "metadata": {
    "execution": {
     "iopub.execute_input": "2022-03-01T15:32:09.376014Z",
     "iopub.status.busy": "2022-03-01T15:32:09.375462Z",
     "iopub.status.idle": "2022-03-01T15:32:09.415727Z",
     "shell.execute_reply": "2022-03-01T15:32:09.414662Z",
     "shell.execute_reply.started": "2022-03-01T15:32:09.375965Z"
    },
    "tags": []
   },
   "outputs": [
    {
     "name": "stdout",
     "output_type": "stream",
     "text": [
      "['Arthur', 'Conan', 'Doyle', 'the', 'Hound', 'of', 'the', 'Baskervilles', 'Chapter', 'Mr']\n"
     ]
    }
   ],
   "source": [
    "# Creating a list of word lemmas\n",
    "lemma_list = []\n",
    "\n",
    "for token in doc: \n",
    "    lemma_list.append(token.lemma_)\n",
    "\n",
    "print(lemma_list[0:10])"
   ]
  },
  {
   "cell_type": "code",
   "execution_count": 56,
   "id": "97fd7d2d-3f3c-4e1a-9c68-68ece14af074",
   "metadata": {
    "execution": {
     "iopub.execute_input": "2022-03-01T16:12:31.765262Z",
     "iopub.status.busy": "2022-03-01T16:12:31.764786Z",
     "iopub.status.idle": "2022-03-01T16:12:31.839821Z",
     "shell.execute_reply": "2022-03-01T16:12:31.839141Z",
     "shell.execute_reply.started": "2022-03-01T16:12:31.765217Z"
    },
    "tags": []
   },
   "outputs": [
    {
     "name": "stdout",
     "output_type": "stream",
     "text": [
      "[('as', 405, 2, 2.072012007292924), ('he', 1233, 1, -0.5341669793379281), ('answer', 33, 1, 4.689395985706458), ('it', 980, 1, -0.20284783393765946), ('be', 2505, 4, 0.4431952169823404), ('Watson', 112, 1, 2.9264351830073068), ('refined', 1, 1, 9.73379010506491), ('coldbloode', 1, 1, 9.73379010506491), ('deliberate', 1, 1, 9.73379010506491), ('mur', 1, 1, 9.73379010506491), ('Uncle', 1, 1, 9.73379010506491), ('and', 1627, 2, 0.06579156939238331), ('nephew', 1, 1, 9.73379010506491), ('have', 1225, 1, -0.5247759288250218), ('be', 2505, 4, 0.4431952169823404), ('the', 3329, 5, 0.35484504481201024), ('one', 247, 2, 2.7854228734802335), ('frighten', 6, 1, 7.148827604343754), ('to', 1409, 3, 0.8582967094764306), ('death', 64, 1, 3.733790105064911), ('this', 337, 2, 2.3371853238830527), ('case', 78, 1, 3.448387886202663), ('as', 405, 2, 2.072012007292924), ('one', 247, 2, 2.7854228734802335), ('of', 1593, 2, 0.09625955353960121), ('and', 1627, 2, 0.06579156939238331), ('the', 3329, 5, 0.35484504481201024), ('evidence', 13, 1, 6.033350386923819), ('may', 98, 1, 3.119080260949703), ('implicate', 2, 1, 8.73379010506491), ('course', 27, 1, 4.978902602901442), ('there', 313, 2, 2.443771258132293), ('be', 2505, 4, 0.4431952169823404), ('the', 3329, 5, 0.35484504481201024), ('Anderson', 1, 1, 9.73379010506491), ('in', 912, 3, 1.4858625916213257), ('North', 2, 1, 8.73379010506491), ('Carolina', 1, 1, 9.73379010506491), ('but', 400, 1, 1.0899339152901866), ('this', 337, 2, 2.3371853238830527), ('Montpensier', 1, 1, 9.73379010506491), ('from', 286, 1, 1.5739187682865217), ('the', 3329, 5, 0.35484504481201024), ('charge', 7, 1, 6.926435183007307), ('of', 1593, 2, 0.09625955353960121), ('which', 416, 1, 1.033350386923819), ('hang', 11, 1, 6.274358486427613), ('over', 114, 1, 2.900900090900169), ('she', 207, 3, 3.6252656482867422), ('in', 912, 3, 1.4858625916213257), ('help', 49, 1, 4.119080260949703), ('we', 638, 1, 0.4163774913000417), ('much', 77, 1, 3.46700356437001), ('in', 912, 3, 1.4858625916213257), ('prove', 14, 1, 5.926435183007307), ('against', 46, 1, 4.210228149007898), ('our', 206, 1, 2.0472895778816924), ('man', 218, 1, 1.9656057802879847), ('there', 313, 2, 2.443771258132293), ('seem', 73, 1, 3.543965546184894), ('she', 207, 3, 3.6252656482867422), ('the', 3329, 5, 0.35484504481201024), ('direct', 8, 1, 6.7337901050649105), ('accessory', 1, 1, 9.73379010506491), ('to', 1409, 3, 0.8582967094764306), ('she', 207, 3, 3.6252656482867422), ('be', 2505, 4, 0.4431952169823404), ('ready', 22, 1, 5.274358486427614), ('to', 1409, 3, 0.8582967094764306), ('warn', 8, 1, 6.7337901050649105)]\n"
     ]
    }
   ],
   "source": [
    "# Import math package\n",
    "import math\n",
    "\n",
    "# Create list of context words\n",
    "context_words_lemma = [sublist[3] for sublist in context_words]\n",
    "\n",
    "# Define variables in the MI formula that does not need a for-loop\n",
    "A = lemma_list.count(keyword)\n",
    "size_corpus = len(lemma_list)\n",
    "span = window*2\n",
    "\n",
    "# Defining empty list for output\n",
    "collocate_info = []\n",
    "\n",
    "for word in context_words_lemma:\n",
    "    B = lemma_list.count(word)\n",
    "    AB = context_words_lemma.count(word)\n",
    "    MI = math.log10( (AB*size_corpus) / (A * B * span) ) / math.log10(2)\n",
    "    collocate_info.append((word, B, AB, MI))\n",
    "\n",
    "print(collocate_info)"
   ]
  },
  {
   "cell_type": "markdown",
   "id": "32ec85a0-ee8a-4075-9ac3-458fac5feeb8",
   "metadata": {},
   "source": [
    "## Save to CSV"
   ]
  },
  {
   "cell_type": "code",
   "execution_count": 59,
   "id": "4aaf346b-4bb6-43a5-b1fa-449637abc13c",
   "metadata": {
    "execution": {
     "iopub.execute_input": "2022-03-01T16:17:46.671653Z",
     "iopub.status.busy": "2022-03-01T16:17:46.671126Z",
     "iopub.status.idle": "2022-03-01T16:17:46.945171Z",
     "shell.execute_reply": "2022-03-01T16:17:46.944002Z",
     "shell.execute_reply.started": "2022-03-01T16:17:46.671605Z"
    },
    "tags": []
   },
   "outputs": [],
   "source": [
    "# Import pandas\n",
    "import pandas as pd\n",
    "# create a dataframe\n",
    "collocate_df = pd.DataFrame(collocate_info, columns=[\"collocate_term\", \"app_in_text\", \"app_in_context\", \"MI\"])"
   ]
  },
  {
   "cell_type": "code",
   "execution_count": 60,
   "id": "f28220aa-ed0d-403d-8144-97ec94addbb0",
   "metadata": {
    "execution": {
     "iopub.execute_input": "2022-03-01T16:19:14.530722Z",
     "iopub.status.busy": "2022-03-01T16:19:14.530180Z",
     "iopub.status.idle": "2022-03-01T16:19:14.543659Z",
     "shell.execute_reply": "2022-03-01T16:19:14.542189Z",
     "shell.execute_reply.started": "2022-03-01T16:19:14.530671Z"
    }
   },
   "outputs": [],
   "source": [
    "# Saving CSV\n",
    "outpath = os.path.join(\"Output\", \"collocate_df.csv\")\n",
    "collocate_df.to_csv(outpath, index=False)"
   ]
  },
  {
   "cell_type": "code",
   "execution_count": null,
   "id": "77960b5d-c252-4af7-bfad-8f884a4fd931",
   "metadata": {},
   "outputs": [],
   "source": []
  }
 ],
 "metadata": {
  "kernelspec": {
   "display_name": "Python 3 ",
   "language": "python",
   "name": "python3"
  },
  "language_info": {
   "codemirror_mode": {
    "name": "ipython",
    "version": 3
   },
   "file_extension": ".py",
   "mimetype": "text/x-python",
   "name": "python",
   "nbconvert_exporter": "python",
   "pygments_lexer": "ipython3",
   "version": "3.9.6"
  }
 },
 "nbformat": 4,
 "nbformat_minor": 5
}
